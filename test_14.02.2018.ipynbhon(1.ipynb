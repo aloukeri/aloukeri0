{
 "cells": [
  {
   "cell_type": "markdown",
   "metadata": {
    "collapsed": true
   },
   "source": [
    "<h1> My Jupyter Notebook on IBM Data Science Experience </h1>"
   ]
  },
  {
   "cell_type": "markdown",
   "metadata": {
    "collapsed": true
   },
   "source": [
    "<b> Aspasia Loukeri </b><br>\n",
    "Just someone"
   ]
  },
  {
   "cell_type": "markdown",
   "metadata": {},
   "source": [
    "<i> I am interested in data science because I think it is useful. Also, I am interested in it because I think it is fun. </i>"
   ]
  },
  {
   "cell_type": "markdown",
   "metadata": {},
   "source": [
    "<h3>The following code will show the sum of two numbers:</h3>"
   ]
  },
  {
   "cell_type": "code",
   "execution_count": null,
   "metadata": {},
   "outputs": [],
   "source": [
    "num1=1\n",
    "num2=2\n",
    "sum=float(num1)+float(num2)\n",
    "print(sum)"
   ]
  },
  {
   "cell_type": "markdown",
   "metadata": {},
   "source": [
    "-+-+-+-+<br>\n",
    "This small notebook above does not include the following HTML elements:\n",
    "<ul>* <strike>strikethrough text</strike></ul>\n",
    "<ul>* horizontal rule (below) <hr align=left style=\"border-color:#880000;width:50px\"></hr></ul>\n",
    "<ul>* <table align=center><tr><td>table </td><td>content</td></table></ul>"
   ]
  }
 ],
 "metadata": {
  "kernelspec": {
   "display_name": "Python 3",
   "language": "python",
   "name": "python3"
  },
  "language_info": {
   "codemirror_mode": {
    "name": "ipython",
    "version": 3
   },
   "file_extension": ".py",
   "mimetype": "text/x-python",
   "name": "python",
   "nbconvert_exporter": "python",
   "pygments_lexer": "ipython3",
   "version": "3.6.3"
  }
 },
 "nbformat": 4,
 "nbformat_minor": 1
}
